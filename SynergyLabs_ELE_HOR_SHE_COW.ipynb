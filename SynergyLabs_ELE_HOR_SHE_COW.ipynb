{
 "cells": [
  {
   "cell_type": "code",
   "execution_count": 145,
   "metadata": {},
   "outputs": [],
   "source": [
    "import pandas as pd\n",
    "import numpy as np\n",
    "from PIL import Image\n",
    "import cv2\n",
    "import os\n",
    "import keras\n",
    "import matplotlib.pyplot as plt\n",
    "from keras.layers import Dense,GlobalAveragePooling2D,GlobalMaxPooling2D\n",
    "from keras.applications import MobileNet,VGG16\n",
    "from keras.preprocessing import image\n",
    "from keras.applications.mobilenet import preprocess_input\n",
    "from keras.preprocessing.image import ImageDataGenerator\n",
    "from keras.models import Model\n",
    "from keras.optimizers import Adam,SGD,RMSprop\n",
    "from sklearn.model_selection import train_test_split"
   ]
  },
  {
   "cell_type": "code",
   "execution_count": 146,
   "metadata": {},
   "outputs": [],
   "source": [
    "train_data_dir = \"./ANIMAL_4/train/\"\n",
    "test_data_dir = \"./ANIMAL_4/test/\"\n",
    "np_epochs = 8\n",
    "lr = 1e-2\n",
    "dc = lr/np_epochs\n",
    "mom = 0.65\n",
    "batch = 32"
   ]
  },
  {
   "cell_type": "code",
   "execution_count": 147,
   "metadata": {},
   "outputs": [
    {
     "name": "stdout",
     "output_type": "stream",
     "text": [
      "WARNING:tensorflow:`input_shape` is undefined or non-square, or `rows` is not in [128, 160, 192, 224]. Weights for input shape (224, 224) will be loaded as the default.\n"
     ]
    }
   ],
   "source": [
    "base_model=MobileNet(weights='imagenet',include_top=False)\n",
    "\n",
    "x=base_model.output\n",
    "x=GlobalMaxPooling2D()(x)\n",
    "x=Dense(1024,activation='relu')(x)\n",
    "x=Dense(1024,activation='relu')(x)\n",
    "x=Dense(512,activation='relu')(x)\n",
    "preds=Dense(4,activation='softmax')(x)"
   ]
  },
  {
   "cell_type": "code",
   "execution_count": 148,
   "metadata": {},
   "outputs": [],
   "source": [
    "model=Model(inputs=base_model.input,outputs=preds)"
   ]
  },
  {
   "cell_type": "code",
   "execution_count": 149,
   "metadata": {},
   "outputs": [],
   "source": [
    "for layer in model.layers[:80]:\n",
    "    layer.trainable=False\n",
    "for layer in model.layers[80:]:\n",
    "    layer.trainable=True"
   ]
  },
  {
   "cell_type": "code",
   "execution_count": 150,
   "metadata": {},
   "outputs": [],
   "source": [
    "train_datagen = ImageDataGenerator(rotation_range=40,\n",
    "                                   shear_range = 0.4,\n",
    "                                   zoom_range = 0.4,\n",
    "                                   horizontal_flip=True,\n",
    "                                   preprocessing_function= preprocess_input,\n",
    "                                   validation_split=0.2)"
   ]
  },
  {
   "cell_type": "code",
   "execution_count": 151,
   "metadata": {},
   "outputs": [
    {
     "name": "stdout",
     "output_type": "stream",
     "text": [
      "Found 800 images belonging to 4 classes.\n"
     ]
    }
   ],
   "source": [
    "train_generator = train_datagen.flow_from_directory(\n",
    "    train_data_dir,\n",
    "    target_size = (224,224),\n",
    "    batch_size = batch,\n",
    "    class_mode = 'categorical',\n",
    "    subset='training',\n",
    "    seed = 42)"
   ]
  },
  {
   "cell_type": "code",
   "execution_count": 152,
   "metadata": {},
   "outputs": [
    {
     "name": "stdout",
     "output_type": "stream",
     "text": [
      "Found 800 images belonging to 4 classes.\n"
     ]
    }
   ],
   "source": [
    "valid_generator = train_datagen.flow_from_directory(\n",
    "    train_data_dir,\n",
    "    target_size = (224,224),\n",
    "    batch_size = batch,\n",
    "    class_mode = 'categorical',\n",
    "    subset='training',\n",
    "    seed = 42)"
   ]
  },
  {
   "cell_type": "code",
   "execution_count": 153,
   "metadata": {},
   "outputs": [],
   "source": [
    "opt = SGD(learning_rate = lr,decay=dc,momentum=mom)\n",
    "model.compile(optimizer=opt,loss='categorical_crossentropy',metrics=['accuracy'])"
   ]
  },
  {
   "cell_type": "code",
   "execution_count": 154,
   "metadata": {
    "scrolled": true
   },
   "outputs": [
    {
     "name": "stdout",
     "output_type": "stream",
     "text": [
      "Epoch 1/8\n",
      "25/25 [==============================] - 52s 2s/step - loss: 7.7748 - accuracy: 0.2734 - val_loss: 0.9720 - val_accuracy: 0.5700\n",
      "Epoch 2/8\n",
      "25/25 [==============================] - 53s 2s/step - loss: 0.8126 - accuracy: 0.6797 - val_loss: 0.6585 - val_accuracy: 0.7400\n",
      "Epoch 3/8\n",
      "25/25 [==============================] - 56s 2s/step - loss: 0.4280 - accuracy: 0.8190 - val_loss: 0.2616 - val_accuracy: 0.9075\n",
      "Epoch 4/8\n",
      "25/25 [==============================] - 52s 2s/step - loss: 0.3490 - accuracy: 0.8554 - val_loss: 0.6192 - val_accuracy: 0.7225\n",
      "Epoch 5/8\n",
      "25/25 [==============================] - 47s 2s/step - loss: 0.4350 - accuracy: 0.8276 - val_loss: 0.1624 - val_accuracy: 0.9450\n",
      "Epoch 6/8\n",
      "25/25 [==============================] - 42s 2s/step - loss: 0.3345 - accuracy: 0.8817 - val_loss: 0.1631 - val_accuracy: 0.9550\n",
      "Epoch 7/8\n",
      "25/25 [==============================] - 44s 2s/step - loss: 0.1615 - accuracy: 0.9540 - val_loss: 0.2063 - val_accuracy: 0.9050\n",
      "Epoch 8/8\n",
      "25/25 [==============================] - 44s 2s/step - loss: 0.1673 - accuracy: 0.9289 - val_loss: 0.1120 - val_accuracy: 0.9563\n"
     ]
    },
    {
     "data": {
      "text/plain": [
       "<tensorflow.python.keras.callbacks.History at 0x7fbe745a6430>"
      ]
     },
     "execution_count": 154,
     "metadata": {},
     "output_type": "execute_result"
    }
   ],
   "source": [
    "model.fit_generator(\n",
    "    train_generator,\n",
    "    steps_per_epoch = train_generator.samples // batch,\n",
    "    validation_data = valid_generator, \n",
    "    validation_steps = valid_generator.samples // batch,\n",
    "    epochs = np_epochs)"
   ]
  },
  {
   "cell_type": "code",
   "execution_count": 155,
   "metadata": {},
   "outputs": [],
   "source": [
    "model.save(\"ELEHORSHECOW.h5\")"
   ]
  },
  {
   "cell_type": "code",
   "execution_count": 156,
   "metadata": {},
   "outputs": [
    {
     "name": "stdout",
     "output_type": "stream",
     "text": [
      "Found 1400 images belonging to 4 classes.\n"
     ]
    }
   ],
   "source": [
    "test_datagen = ImageDataGenerator(preprocessing_function=preprocess_input)\n",
    "\n",
    "test_generator = test_datagen.flow_from_directory(test_data_dir,\n",
    "                                                  target_size =(224,224),seed = 42)"
   ]
  },
  {
   "cell_type": "code",
   "execution_count": 157,
   "metadata": {},
   "outputs": [
    {
     "name": "stdout",
     "output_type": "stream",
     "text": [
      "44/44 [==============================] - 30s 682ms/step - loss: 0.5498 - accuracy: 0.8293\n"
     ]
    }
   ],
   "source": [
    "scores = model.evaluate(test_generator);"
   ]
  },
  {
   "cell_type": "code",
   "execution_count": 158,
   "metadata": {},
   "outputs": [
    {
     "name": "stdout",
     "output_type": "stream",
     "text": [
      "Accuracy: 82.9285740852356\n"
     ]
    }
   ],
   "source": [
    "print(\"Accuracy: \" + str(100*scores[1]))"
   ]
  }
 ],
 "metadata": {
  "kernelspec": {
   "display_name": "Python 3",
   "language": "python",
   "name": "python3"
  },
  "language_info": {
   "codemirror_mode": {
    "name": "ipython",
    "version": 3
   },
   "file_extension": ".py",
   "mimetype": "text/x-python",
   "name": "python",
   "nbconvert_exporter": "python",
   "pygments_lexer": "ipython3",
   "version": "3.8.5"
  }
 },
 "nbformat": 4,
 "nbformat_minor": 4
}
